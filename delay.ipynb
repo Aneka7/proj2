{
  "cells": [
    {
      "cell_type": "code",
      "execution_count": 1,
      "metadata": {
        "id": "O0kKnC18gCrz"
      },
      "outputs": [],
      "source": [
        "import pandas as pd\n",
        "import numpy as np\n",
        "import matplotlib.pyplot as plt\n",
        "import seaborn as sns\n",
        "from sklearn.model_selection import train_test_split\n",
        "from sklearn.preprocessing import LabelEncoder, StandardScaler\n",
        "from sklearn.linear_model import LinearRegression\n",
        "from sklearn.svm import SVR\n",
        "from sklearn.metrics import mean_absolute_error, mean_squared_error, r2_score\n"
      ]
    },
    {
      "cell_type": "code",
      "execution_count": 2,
      "metadata": {
        "colab": {
          "base_uri": "https://localhost:8080/",
          "height": 411
        },
        "id": "a_SM8joqfOF4",
        "outputId": "5edc69fc-4746-4796-ee5f-96cc0daf184b"
      },
      "outputs": [
        {
          "output_type": "execute_result",
          "data": {
            "text/plain": [
              "  School_Year  Busbreakdown_ID           Run_Type Bus_No Route_Number  \\\n",
              "0   2015-2016          1227538  Special Ed AM Run   2621         J711   \n",
              "1   2015-2016          1227539  Special Ed AM Run   1260         M351   \n",
              "2   2015-2016          1227540           Pre-K/EI    418            3   \n",
              "3   2015-2016          1227541  Special Ed AM Run   4522         M271   \n",
              "4   2015-2016          1227542  Special Ed AM Run   3124         M373   \n",
              "\n",
              "          Reason Schools_Serviced              Occurred_On  \\\n",
              "0  Heavy Traffic            75003  2015-11-05T08:10:00.000   \n",
              "1  Heavy Traffic            06716  2015-11-05T08:10:00.000   \n",
              "2  Heavy Traffic             C445  2015-11-05T08:09:00.000   \n",
              "3  Heavy Traffic            02699  2015-11-05T08:12:00.000   \n",
              "4  Heavy Traffic            02116  2015-11-05T08:13:00.000   \n",
              "\n",
              "                Created_On        Boro  ... How_Long_Delayed  \\\n",
              "0  2015-11-05T08:12:00.000  New Jersey  ...              NaN   \n",
              "1  2015-11-05T08:12:00.000   Manhattan  ...            20MNS   \n",
              "2  2015-11-05T08:13:00.000       Bronx  ...            15MIN   \n",
              "3  2015-11-05T08:14:00.000   Manhattan  ...           15 MIN   \n",
              "4  2015-11-05T08:14:00.000   Manhattan  ...              NaN   \n",
              "\n",
              "  Number_Of_Students_On_The_Bus  Has_Contractor_Notified_Schools  \\\n",
              "0                          11.0                              Yes   \n",
              "1                           2.0                              Yes   \n",
              "2                           8.0                              Yes   \n",
              "3                           6.0                               No   \n",
              "4                           6.0                               No   \n",
              "\n",
              "  Has_Contractor_Notified_Parents Have_You_Alerted_OPT  \\\n",
              "0                              No                  Yes   \n",
              "1                             Yes                   No   \n",
              "2                             Yes                  Yes   \n",
              "3                              No                   No   \n",
              "4                              No                   No   \n",
              "\n",
              "               Informed_On Incident_Number          Last_Updated_On  \\\n",
              "0  2015-11-05T08:12:00.000             NaN  2015-11-05T08:12:14.000   \n",
              "1  2015-11-05T08:12:00.000             NaN  2015-11-05T08:13:34.000   \n",
              "2  2015-11-05T08:13:00.000             NaN  2015-11-05T08:13:22.000   \n",
              "3  2015-11-05T08:14:00.000             NaN  2015-11-05T08:14:04.000   \n",
              "4  2015-11-05T08:14:00.000             NaN  2015-11-05T08:14:08.000   \n",
              "\n",
              "  Breakdown_or_Running_Late School_Age_or_PreK  \n",
              "0              Running Late         School-Age  \n",
              "1              Running Late         School-Age  \n",
              "2              Running Late              Pre-K  \n",
              "3              Running Late         School-Age  \n",
              "4              Running Late         School-Age  \n",
              "\n",
              "[5 rows x 21 columns]"
            ],
            "text/html": [
              "\n",
              "  <div id=\"df-f633efb8-c3dd-46be-b4b7-7c369e7580a3\" class=\"colab-df-container\">\n",
              "    <div>\n",
              "<style scoped>\n",
              "    .dataframe tbody tr th:only-of-type {\n",
              "        vertical-align: middle;\n",
              "    }\n",
              "\n",
              "    .dataframe tbody tr th {\n",
              "        vertical-align: top;\n",
              "    }\n",
              "\n",
              "    .dataframe thead th {\n",
              "        text-align: right;\n",
              "    }\n",
              "</style>\n",
              "<table border=\"1\" class=\"dataframe\">\n",
              "  <thead>\n",
              "    <tr style=\"text-align: right;\">\n",
              "      <th></th>\n",
              "      <th>School_Year</th>\n",
              "      <th>Busbreakdown_ID</th>\n",
              "      <th>Run_Type</th>\n",
              "      <th>Bus_No</th>\n",
              "      <th>Route_Number</th>\n",
              "      <th>Reason</th>\n",
              "      <th>Schools_Serviced</th>\n",
              "      <th>Occurred_On</th>\n",
              "      <th>Created_On</th>\n",
              "      <th>Boro</th>\n",
              "      <th>...</th>\n",
              "      <th>How_Long_Delayed</th>\n",
              "      <th>Number_Of_Students_On_The_Bus</th>\n",
              "      <th>Has_Contractor_Notified_Schools</th>\n",
              "      <th>Has_Contractor_Notified_Parents</th>\n",
              "      <th>Have_You_Alerted_OPT</th>\n",
              "      <th>Informed_On</th>\n",
              "      <th>Incident_Number</th>\n",
              "      <th>Last_Updated_On</th>\n",
              "      <th>Breakdown_or_Running_Late</th>\n",
              "      <th>School_Age_or_PreK</th>\n",
              "    </tr>\n",
              "  </thead>\n",
              "  <tbody>\n",
              "    <tr>\n",
              "      <th>0</th>\n",
              "      <td>2015-2016</td>\n",
              "      <td>1227538</td>\n",
              "      <td>Special Ed AM Run</td>\n",
              "      <td>2621</td>\n",
              "      <td>J711</td>\n",
              "      <td>Heavy Traffic</td>\n",
              "      <td>75003</td>\n",
              "      <td>2015-11-05T08:10:00.000</td>\n",
              "      <td>2015-11-05T08:12:00.000</td>\n",
              "      <td>New Jersey</td>\n",
              "      <td>...</td>\n",
              "      <td>NaN</td>\n",
              "      <td>11.0</td>\n",
              "      <td>Yes</td>\n",
              "      <td>No</td>\n",
              "      <td>Yes</td>\n",
              "      <td>2015-11-05T08:12:00.000</td>\n",
              "      <td>NaN</td>\n",
              "      <td>2015-11-05T08:12:14.000</td>\n",
              "      <td>Running Late</td>\n",
              "      <td>School-Age</td>\n",
              "    </tr>\n",
              "    <tr>\n",
              "      <th>1</th>\n",
              "      <td>2015-2016</td>\n",
              "      <td>1227539</td>\n",
              "      <td>Special Ed AM Run</td>\n",
              "      <td>1260</td>\n",
              "      <td>M351</td>\n",
              "      <td>Heavy Traffic</td>\n",
              "      <td>06716</td>\n",
              "      <td>2015-11-05T08:10:00.000</td>\n",
              "      <td>2015-11-05T08:12:00.000</td>\n",
              "      <td>Manhattan</td>\n",
              "      <td>...</td>\n",
              "      <td>20MNS</td>\n",
              "      <td>2.0</td>\n",
              "      <td>Yes</td>\n",
              "      <td>Yes</td>\n",
              "      <td>No</td>\n",
              "      <td>2015-11-05T08:12:00.000</td>\n",
              "      <td>NaN</td>\n",
              "      <td>2015-11-05T08:13:34.000</td>\n",
              "      <td>Running Late</td>\n",
              "      <td>School-Age</td>\n",
              "    </tr>\n",
              "    <tr>\n",
              "      <th>2</th>\n",
              "      <td>2015-2016</td>\n",
              "      <td>1227540</td>\n",
              "      <td>Pre-K/EI</td>\n",
              "      <td>418</td>\n",
              "      <td>3</td>\n",
              "      <td>Heavy Traffic</td>\n",
              "      <td>C445</td>\n",
              "      <td>2015-11-05T08:09:00.000</td>\n",
              "      <td>2015-11-05T08:13:00.000</td>\n",
              "      <td>Bronx</td>\n",
              "      <td>...</td>\n",
              "      <td>15MIN</td>\n",
              "      <td>8.0</td>\n",
              "      <td>Yes</td>\n",
              "      <td>Yes</td>\n",
              "      <td>Yes</td>\n",
              "      <td>2015-11-05T08:13:00.000</td>\n",
              "      <td>NaN</td>\n",
              "      <td>2015-11-05T08:13:22.000</td>\n",
              "      <td>Running Late</td>\n",
              "      <td>Pre-K</td>\n",
              "    </tr>\n",
              "    <tr>\n",
              "      <th>3</th>\n",
              "      <td>2015-2016</td>\n",
              "      <td>1227541</td>\n",
              "      <td>Special Ed AM Run</td>\n",
              "      <td>4522</td>\n",
              "      <td>M271</td>\n",
              "      <td>Heavy Traffic</td>\n",
              "      <td>02699</td>\n",
              "      <td>2015-11-05T08:12:00.000</td>\n",
              "      <td>2015-11-05T08:14:00.000</td>\n",
              "      <td>Manhattan</td>\n",
              "      <td>...</td>\n",
              "      <td>15 MIN</td>\n",
              "      <td>6.0</td>\n",
              "      <td>No</td>\n",
              "      <td>No</td>\n",
              "      <td>No</td>\n",
              "      <td>2015-11-05T08:14:00.000</td>\n",
              "      <td>NaN</td>\n",
              "      <td>2015-11-05T08:14:04.000</td>\n",
              "      <td>Running Late</td>\n",
              "      <td>School-Age</td>\n",
              "    </tr>\n",
              "    <tr>\n",
              "      <th>4</th>\n",
              "      <td>2015-2016</td>\n",
              "      <td>1227542</td>\n",
              "      <td>Special Ed AM Run</td>\n",
              "      <td>3124</td>\n",
              "      <td>M373</td>\n",
              "      <td>Heavy Traffic</td>\n",
              "      <td>02116</td>\n",
              "      <td>2015-11-05T08:13:00.000</td>\n",
              "      <td>2015-11-05T08:14:00.000</td>\n",
              "      <td>Manhattan</td>\n",
              "      <td>...</td>\n",
              "      <td>NaN</td>\n",
              "      <td>6.0</td>\n",
              "      <td>No</td>\n",
              "      <td>No</td>\n",
              "      <td>No</td>\n",
              "      <td>2015-11-05T08:14:00.000</td>\n",
              "      <td>NaN</td>\n",
              "      <td>2015-11-05T08:14:08.000</td>\n",
              "      <td>Running Late</td>\n",
              "      <td>School-Age</td>\n",
              "    </tr>\n",
              "  </tbody>\n",
              "</table>\n",
              "<p>5 rows × 21 columns</p>\n",
              "</div>\n",
              "    <div class=\"colab-df-buttons\">\n",
              "\n",
              "  <div class=\"colab-df-container\">\n",
              "    <button class=\"colab-df-convert\" onclick=\"convertToInteractive('df-f633efb8-c3dd-46be-b4b7-7c369e7580a3')\"\n",
              "            title=\"Convert this dataframe to an interactive table.\"\n",
              "            style=\"display:none;\">\n",
              "\n",
              "  <svg xmlns=\"http://www.w3.org/2000/svg\" height=\"24px\" viewBox=\"0 -960 960 960\">\n",
              "    <path d=\"M120-120v-720h720v720H120Zm60-500h600v-160H180v160Zm220 220h160v-160H400v160Zm0 220h160v-160H400v160ZM180-400h160v-160H180v160Zm440 0h160v-160H620v160ZM180-180h160v-160H180v160Zm440 0h160v-160H620v160Z\"/>\n",
              "  </svg>\n",
              "    </button>\n",
              "\n",
              "  <style>\n",
              "    .colab-df-container {\n",
              "      display:flex;\n",
              "      gap: 12px;\n",
              "    }\n",
              "\n",
              "    .colab-df-convert {\n",
              "      background-color: #E8F0FE;\n",
              "      border: none;\n",
              "      border-radius: 50%;\n",
              "      cursor: pointer;\n",
              "      display: none;\n",
              "      fill: #1967D2;\n",
              "      height: 32px;\n",
              "      padding: 0 0 0 0;\n",
              "      width: 32px;\n",
              "    }\n",
              "\n",
              "    .colab-df-convert:hover {\n",
              "      background-color: #E2EBFA;\n",
              "      box-shadow: 0px 1px 2px rgba(60, 64, 67, 0.3), 0px 1px 3px 1px rgba(60, 64, 67, 0.15);\n",
              "      fill: #174EA6;\n",
              "    }\n",
              "\n",
              "    .colab-df-buttons div {\n",
              "      margin-bottom: 4px;\n",
              "    }\n",
              "\n",
              "    [theme=dark] .colab-df-convert {\n",
              "      background-color: #3B4455;\n",
              "      fill: #D2E3FC;\n",
              "    }\n",
              "\n",
              "    [theme=dark] .colab-df-convert:hover {\n",
              "      background-color: #434B5C;\n",
              "      box-shadow: 0px 1px 3px 1px rgba(0, 0, 0, 0.15);\n",
              "      filter: drop-shadow(0px 1px 2px rgba(0, 0, 0, 0.3));\n",
              "      fill: #FFFFFF;\n",
              "    }\n",
              "  </style>\n",
              "\n",
              "    <script>\n",
              "      const buttonEl =\n",
              "        document.querySelector('#df-f633efb8-c3dd-46be-b4b7-7c369e7580a3 button.colab-df-convert');\n",
              "      buttonEl.style.display =\n",
              "        google.colab.kernel.accessAllowed ? 'block' : 'none';\n",
              "\n",
              "      async function convertToInteractive(key) {\n",
              "        const element = document.querySelector('#df-f633efb8-c3dd-46be-b4b7-7c369e7580a3');\n",
              "        const dataTable =\n",
              "          await google.colab.kernel.invokeFunction('convertToInteractive',\n",
              "                                                    [key], {});\n",
              "        if (!dataTable) return;\n",
              "\n",
              "        const docLinkHtml = 'Like what you see? Visit the ' +\n",
              "          '<a target=\"_blank\" href=https://colab.research.google.com/notebooks/data_table.ipynb>data table notebook</a>'\n",
              "          + ' to learn more about interactive tables.';\n",
              "        element.innerHTML = '';\n",
              "        dataTable['output_type'] = 'display_data';\n",
              "        await google.colab.output.renderOutput(dataTable, element);\n",
              "        const docLink = document.createElement('div');\n",
              "        docLink.innerHTML = docLinkHtml;\n",
              "        element.appendChild(docLink);\n",
              "      }\n",
              "    </script>\n",
              "  </div>\n",
              "\n",
              "\n",
              "<div id=\"df-a6044ef7-462d-4a7f-8655-477852facef7\">\n",
              "  <button class=\"colab-df-quickchart\" onclick=\"quickchart('df-a6044ef7-462d-4a7f-8655-477852facef7')\"\n",
              "            title=\"Suggest charts\"\n",
              "            style=\"display:none;\">\n",
              "\n",
              "<svg xmlns=\"http://www.w3.org/2000/svg\" height=\"24px\"viewBox=\"0 0 24 24\"\n",
              "     width=\"24px\">\n",
              "    <g>\n",
              "        <path d=\"M19 3H5c-1.1 0-2 .9-2 2v14c0 1.1.9 2 2 2h14c1.1 0 2-.9 2-2V5c0-1.1-.9-2-2-2zM9 17H7v-7h2v7zm4 0h-2V7h2v10zm4 0h-2v-4h2v4z\"/>\n",
              "    </g>\n",
              "</svg>\n",
              "  </button>\n",
              "\n",
              "<style>\n",
              "  .colab-df-quickchart {\n",
              "      --bg-color: #E8F0FE;\n",
              "      --fill-color: #1967D2;\n",
              "      --hover-bg-color: #E2EBFA;\n",
              "      --hover-fill-color: #174EA6;\n",
              "      --disabled-fill-color: #AAA;\n",
              "      --disabled-bg-color: #DDD;\n",
              "  }\n",
              "\n",
              "  [theme=dark] .colab-df-quickchart {\n",
              "      --bg-color: #3B4455;\n",
              "      --fill-color: #D2E3FC;\n",
              "      --hover-bg-color: #434B5C;\n",
              "      --hover-fill-color: #FFFFFF;\n",
              "      --disabled-bg-color: #3B4455;\n",
              "      --disabled-fill-color: #666;\n",
              "  }\n",
              "\n",
              "  .colab-df-quickchart {\n",
              "    background-color: var(--bg-color);\n",
              "    border: none;\n",
              "    border-radius: 50%;\n",
              "    cursor: pointer;\n",
              "    display: none;\n",
              "    fill: var(--fill-color);\n",
              "    height: 32px;\n",
              "    padding: 0;\n",
              "    width: 32px;\n",
              "  }\n",
              "\n",
              "  .colab-df-quickchart:hover {\n",
              "    background-color: var(--hover-bg-color);\n",
              "    box-shadow: 0 1px 2px rgba(60, 64, 67, 0.3), 0 1px 3px 1px rgba(60, 64, 67, 0.15);\n",
              "    fill: var(--button-hover-fill-color);\n",
              "  }\n",
              "\n",
              "  .colab-df-quickchart-complete:disabled,\n",
              "  .colab-df-quickchart-complete:disabled:hover {\n",
              "    background-color: var(--disabled-bg-color);\n",
              "    fill: var(--disabled-fill-color);\n",
              "    box-shadow: none;\n",
              "  }\n",
              "\n",
              "  .colab-df-spinner {\n",
              "    border: 2px solid var(--fill-color);\n",
              "    border-color: transparent;\n",
              "    border-bottom-color: var(--fill-color);\n",
              "    animation:\n",
              "      spin 1s steps(1) infinite;\n",
              "  }\n",
              "\n",
              "  @keyframes spin {\n",
              "    0% {\n",
              "      border-color: transparent;\n",
              "      border-bottom-color: var(--fill-color);\n",
              "      border-left-color: var(--fill-color);\n",
              "    }\n",
              "    20% {\n",
              "      border-color: transparent;\n",
              "      border-left-color: var(--fill-color);\n",
              "      border-top-color: var(--fill-color);\n",
              "    }\n",
              "    30% {\n",
              "      border-color: transparent;\n",
              "      border-left-color: var(--fill-color);\n",
              "      border-top-color: var(--fill-color);\n",
              "      border-right-color: var(--fill-color);\n",
              "    }\n",
              "    40% {\n",
              "      border-color: transparent;\n",
              "      border-right-color: var(--fill-color);\n",
              "      border-top-color: var(--fill-color);\n",
              "    }\n",
              "    60% {\n",
              "      border-color: transparent;\n",
              "      border-right-color: var(--fill-color);\n",
              "    }\n",
              "    80% {\n",
              "      border-color: transparent;\n",
              "      border-right-color: var(--fill-color);\n",
              "      border-bottom-color: var(--fill-color);\n",
              "    }\n",
              "    90% {\n",
              "      border-color: transparent;\n",
              "      border-bottom-color: var(--fill-color);\n",
              "    }\n",
              "  }\n",
              "</style>\n",
              "\n",
              "  <script>\n",
              "    async function quickchart(key) {\n",
              "      const quickchartButtonEl =\n",
              "        document.querySelector('#' + key + ' button');\n",
              "      quickchartButtonEl.disabled = true;  // To prevent multiple clicks.\n",
              "      quickchartButtonEl.classList.add('colab-df-spinner');\n",
              "      try {\n",
              "        const charts = await google.colab.kernel.invokeFunction(\n",
              "            'suggestCharts', [key], {});\n",
              "      } catch (error) {\n",
              "        console.error('Error during call to suggestCharts:', error);\n",
              "      }\n",
              "      quickchartButtonEl.classList.remove('colab-df-spinner');\n",
              "      quickchartButtonEl.classList.add('colab-df-quickchart-complete');\n",
              "    }\n",
              "    (() => {\n",
              "      let quickchartButtonEl =\n",
              "        document.querySelector('#df-a6044ef7-462d-4a7f-8655-477852facef7 button');\n",
              "      quickchartButtonEl.style.display =\n",
              "        google.colab.kernel.accessAllowed ? 'block' : 'none';\n",
              "    })();\n",
              "  </script>\n",
              "</div>\n",
              "\n",
              "    </div>\n",
              "  </div>\n"
            ],
            "application/vnd.google.colaboratory.intrinsic+json": {
              "type": "dataframe",
              "variable_name": "df_ny_bus_delay"
            }
          },
          "metadata": {},
          "execution_count": 2
        }
      ],
      "source": [
        "df_ny_bus_delay = pd.read_csv(\"bus-breakdown-and-delays.csv\")\n",
        "df_ny_bus_delay.head()"
      ]
    },
    {
      "cell_type": "code",
      "execution_count": 3,
      "metadata": {
        "colab": {
          "base_uri": "https://localhost:8080/"
        },
        "id": "nGtl1nWhW997",
        "outputId": "f1cb340f-acc0-473a-819e-378a104af6db"
      },
      "outputs": [
        {
          "output_type": "stream",
          "name": "stdout",
          "text": [
            "['Heavy Traffic' 'Flat Tire' 'Other' 'Won`t Start' 'Mechanical Problem'\n",
            " 'Problem Run' 'Accident' 'Late return from Field Trip'\n",
            " 'Delayed by School' 'Weather Conditions']\n"
          ]
        }
      ],
      "source": [
        "import pandas as pd\n",
        "\n",
        "# Load the dataset\n",
        "df_ny_bus_delay = pd.read_csv(\"bus-breakdown-and-delays.csv\")\n",
        "\n",
        "# Check the unique values in the 'Reason' column\n",
        "unique_reasons = df_ny_bus_delay['Reason'].unique()\n",
        "\n",
        "# Display the unique reasons\n",
        "print(unique_reasons)\n"
      ]
    },
    {
      "cell_type": "code",
      "execution_count": 4,
      "metadata": {
        "id": "SgstxkH4hh5j"
      },
      "outputs": [],
      "source": [
        "df_ny_bus_delay.dropna(inplace=True)"
      ]
    },
    {
      "cell_type": "code",
      "source": [
        "import pandas as pd\n",
        "import numpy as np\n",
        "\n",
        "def parse_delay(x):\n",
        "    if pd.isna(x) or not isinstance(x, str):\n",
        "        return np.nan\n",
        "    digits = ''.join(filter(str.isdigit, x))\n",
        "    return int(digits) if digits else np.nan\n",
        "\n",
        "df = pd.read_csv(\"bus-breakdown-and-delays.csv\", low_memory=False)\n",
        "\n",
        "df[\"How_Long_Delayed\"] = df[\"How_Long_Delayed\"].apply(parse_delay)\n"
      ],
      "metadata": {
        "id": "_kBENTA2m-gR"
      },
      "execution_count": 5,
      "outputs": []
    },
    {
      "cell_type": "code",
      "source": [
        "import pandas as pd\n",
        "import numpy as np\n",
        "from sklearn.preprocessing import LabelEncoder, StandardScaler\n",
        "from datetime import datetime\n",
        "\n",
        "\n",
        "df = pd.read_csv(\"bus-breakdown-and-delays.csv\", low_memory=False)\n",
        "\n",
        "\n",
        "df[\"Occurred_On\"] = pd.to_datetime(df[\"Occurred_On\"], errors=\"coerce\")\n",
        "df[\"Year\"] = df[\"Occurred_On\"].dt.year\n",
        "df[\"Month\"] = df[\"Occurred_On\"].dt.month\n",
        "df[\"Day\"] = df[\"Occurred_On\"].dt.day\n",
        "df[\"Hour\"] = df[\"Occurred_On\"].dt.hour\n",
        "df[\"Minute\"] = df[\"Occurred_On\"].dt.minute\n",
        "\n",
        "\n",
        "label_enc = LabelEncoder()\n",
        "df[\"Reason\"] = label_enc.fit_transform(df[\"Reason\"].astype(str))\n",
        "df[\"Boro\"] = label_enc.fit_transform(df[\"Boro\"].astype(str))\n",
        "\n",
        "\n",
        "def parse_delay(x):\n",
        "    if pd.isna(x) or not isinstance(x, str):  # Handle NaN and non-string values\n",
        "        return np.nan\n",
        "    digits = ''.join(filter(str.isdigit, x))  # Extract numeric values\n",
        "    return int(digits) if digits else np.nan  # Convert to int if digits exist\n",
        "\n",
        "df[\"How_Long_Delayed\"] = df[\"How_Long_Delayed\"].apply(parse_delay)\n",
        "\n",
        "# Drop rows with missing delay values\n",
        "df = df.dropna(subset=[\"How_Long_Delayed\"])\n",
        "\n",
        "# Select features and target\n",
        "X = df[[\"Year\", \"Month\", \"Day\", \"Hour\", \"Minute\", \"Reason\", \"Boro\"]]\n",
        "y = df[\"How_Long_Delayed\"]\n",
        "\n",
        "# Normalize data\n",
        "scaler = StandardScaler()\n",
        "X_scaled = scaler.fit_transform(X)\n",
        "\n",
        "# Print dataset shape\n",
        "print(f\"Feature shape: {X_scaled.shape}, Target shape: {y.shape}\")\n"
      ],
      "metadata": {
        "colab": {
          "base_uri": "https://localhost:8080/"
        },
        "id": "gT9qKUqfm1xs",
        "outputId": "b2620948-d4b0-48a6-e391-85de4346c2eb"
      },
      "execution_count": 6,
      "outputs": [
        {
          "output_type": "stream",
          "name": "stdout",
          "text": [
            "Feature shape: (52158, 7), Target shape: (52158,)\n"
          ]
        }
      ]
    },
    {
      "cell_type": "code",
      "source": [
        "from sklearn.model_selection import train_test_split\n",
        "from sklearn.linear_model import LinearRegression\n",
        "from sklearn.metrics import mean_absolute_error, mean_squared_error\n",
        "\n",
        "# Split data\n",
        "X_train, X_test, y_train, y_test = train_test_split(X_scaled, y, test_size=0.2, random_state=42)\n",
        "\n",
        "# Train model\n",
        "lin_reg = LinearRegression()\n",
        "lin_reg.fit(X_train, y_train)\n",
        "\n",
        "# Predictions\n",
        "y_pred_lr = lin_reg.predict(X_test)\n",
        "\n",
        "# Evaluate\n",
        "mae_lr = mean_absolute_error(y_test, y_pred_lr)\n",
        "mse_lr = mean_squared_error(y_test, y_pred_lr)\n",
        "print(f\"Linear Regression - MAE: {mae_lr}, MSE: {mse_lr}\")\n"
      ],
      "metadata": {
        "colab": {
          "base_uri": "https://localhost:8080/"
        },
        "id": "Xm93y5gsm1uy",
        "outputId": "a05f4ffe-8fb8-4707-8233-9179b18b6601"
      },
      "execution_count": 7,
      "outputs": [
        {
          "output_type": "stream",
          "name": "stdout",
          "text": [
            "Linear Regression - MAE: 545.0623078072219, MSE: 1771783.4988337052\n"
          ]
        }
      ]
    },
    {
      "cell_type": "code",
      "source": [
        "from sklearn.ensemble import RandomForestRegressor\n",
        "from sklearn.model_selection import train_test_split\n",
        "\n",
        "X_train, X_test, y_train, y_test = train_test_split(X_scaled, y, test_size=0.2, random_state=42)\n",
        "\n",
        "rf_reg = RandomForestRegressor(n_estimators=100, random_state=42)\n",
        "rf_reg.fit(X_train, y_train)\n",
        "\n",
        "\n",
        "print(\"Random Forest R² Score:\", rf_reg.score(X_test, y_test))\n"
      ],
      "metadata": {
        "colab": {
          "base_uri": "https://localhost:8080/"
        },
        "id": "Mpzr0h3ar6eJ",
        "outputId": "3b9bd126-19a0-4383-95c9-155dd23fe746"
      },
      "execution_count": 8,
      "outputs": [
        {
          "output_type": "stream",
          "name": "stdout",
          "text": [
            "Random Forest R² Score: 0.08037879563533445\n"
          ]
        }
      ]
    },
    {
      "cell_type": "code",
      "source": [
        "import tensorflow as tf\n",
        "from tensorflow.keras.models import Sequential\n",
        "from tensorflow.keras.layers import Conv1D, Flatten, Dense, Dropout\n",
        "\n",
        "# Reshape for CNN input (samples, timesteps, features)\n",
        "X_train_cnn = X_train.reshape((X_train.shape[0], X_train.shape[1], 1))\n",
        "X_test_cnn = X_test.reshape((X_test.shape[0], X_test.shape[1], 1))\n",
        "\n",
        "# Build CNN Model\n",
        "cnn = Sequential([\n",
        "    Conv1D(filters=64, kernel_size=2, activation=\"relu\", input_shape=(X_train.shape[1], 1)),\n",
        "    Flatten(),\n",
        "    Dense(64, activation=\"relu\"),\n",
        "    Dropout(0.2),\n",
        "    Dense(1)  # Regression output\n",
        "])\n",
        "\n",
        "cnn.compile(optimizer=\"adam\", loss=\"mse\", metrics=[\"mae\"])\n",
        "\n",
        "# Train CNN\n",
        "cnn.fit(X_train_cnn, y_train, epochs=10, batch_size=16, validation_data=(X_test_cnn, y_test))\n",
        "\n",
        "# Evaluate\n",
        "y_pred_cnn = cnn.predict(X_test_cnn).flatten()\n",
        "mae_cnn = mean_absolute_error(y_test, y_pred_cnn)\n",
        "mse_cnn = mean_squared_error(y_test, y_pred_cnn)\n",
        "print(f\"CNN - MAE: {mae_cnn}, MSE: {mse_cnn}\")\n"
      ],
      "metadata": {
        "id": "9GGpX6ccntQ-",
        "colab": {
          "base_uri": "https://localhost:8080/"
        },
        "outputId": "18fece7f-a656-450d-849a-114eb08fdb59"
      },
      "execution_count": 9,
      "outputs": [
        {
          "output_type": "stream",
          "name": "stdout",
          "text": [
            "Epoch 1/10\n"
          ]
        },
        {
          "output_type": "stream",
          "name": "stderr",
          "text": [
            "/usr/local/lib/python3.11/dist-packages/keras/src/layers/convolutional/base_conv.py:107: UserWarning: Do not pass an `input_shape`/`input_dim` argument to a layer. When using Sequential models, prefer using an `Input(shape)` object as the first layer in the model instead.\n",
            "  super().__init__(activity_regularizer=activity_regularizer, **kwargs)\n"
          ]
        },
        {
          "output_type": "stream",
          "name": "stdout",
          "text": [
            "\u001b[1m2608/2608\u001b[0m \u001b[32m━━━━━━━━━━━━━━━━━━━━\u001b[0m\u001b[37m\u001b[0m \u001b[1m7s\u001b[0m 2ms/step - loss: 2246690.7500 - mae: 511.0762 - val_loss: 1693729.7500 - val_mae: 416.8006\n",
            "Epoch 2/10\n",
            "\u001b[1m2608/2608\u001b[0m \u001b[32m━━━━━━━━━━━━━━━━━━━━\u001b[0m\u001b[37m\u001b[0m \u001b[1m4s\u001b[0m 2ms/step - loss: 2789635.0000 - mae: 439.9712 - val_loss: 1693191.5000 - val_mae: 414.9131\n",
            "Epoch 3/10\n",
            "\u001b[1m2608/2608\u001b[0m \u001b[32m━━━━━━━━━━━━━━━━━━━━\u001b[0m\u001b[37m\u001b[0m \u001b[1m5s\u001b[0m 2ms/step - loss: 825437.1250 - mae: 432.1861 - val_loss: 1693739.7500 - val_mae: 441.8784\n",
            "Epoch 4/10\n",
            "\u001b[1m2608/2608\u001b[0m \u001b[32m━━━━━━━━━━━━━━━━━━━━\u001b[0m\u001b[37m\u001b[0m \u001b[1m5s\u001b[0m 2ms/step - loss: 1561531.5000 - mae: 438.2523 - val_loss: 1693475.3750 - val_mae: 448.9564\n",
            "Epoch 5/10\n",
            "\u001b[1m2608/2608\u001b[0m \u001b[32m━━━━━━━━━━━━━━━━━━━━\u001b[0m\u001b[37m\u001b[0m \u001b[1m6s\u001b[0m 2ms/step - loss: 651711.9375 - mae: 431.7347 - val_loss: 1693528.5000 - val_mae: 439.9472\n",
            "Epoch 6/10\n",
            "\u001b[1m2608/2608\u001b[0m \u001b[32m━━━━━━━━━━━━━━━━━━━━\u001b[0m\u001b[37m\u001b[0m \u001b[1m4s\u001b[0m 2ms/step - loss: 1939925.0000 - mae: 444.7146 - val_loss: 1691851.6250 - val_mae: 434.2802\n",
            "Epoch 7/10\n",
            "\u001b[1m2608/2608\u001b[0m \u001b[32m━━━━━━━━━━━━━━━━━━━━\u001b[0m\u001b[37m\u001b[0m \u001b[1m6s\u001b[0m 2ms/step - loss: 895448.8750 - mae: 432.0521 - val_loss: 1691888.8750 - val_mae: 424.4255\n",
            "Epoch 8/10\n",
            "\u001b[1m2608/2608\u001b[0m \u001b[32m━━━━━━━━━━━━━━━━━━━━\u001b[0m\u001b[37m\u001b[0m \u001b[1m5s\u001b[0m 2ms/step - loss: 1020191.6875 - mae: 433.4816 - val_loss: 1692923.1250 - val_mae: 432.3525\n",
            "Epoch 9/10\n",
            "\u001b[1m2608/2608\u001b[0m \u001b[32m━━━━━━━━━━━━━━━━━━━━\u001b[0m\u001b[37m\u001b[0m \u001b[1m5s\u001b[0m 2ms/step - loss: 1963477.8750 - mae: 438.0889 - val_loss: 1691968.6250 - val_mae: 435.9133\n",
            "Epoch 10/10\n",
            "\u001b[1m2608/2608\u001b[0m \u001b[32m━━━━━━━━━━━━━━━━━━━━\u001b[0m\u001b[37m\u001b[0m \u001b[1m10s\u001b[0m 4ms/step - loss: 1602592.8750 - mae: 437.8576 - val_loss: 1692281.7500 - val_mae: 418.8878\n",
            "\u001b[1m326/326\u001b[0m \u001b[32m━━━━━━━━━━━━━━━━━━━━\u001b[0m\u001b[37m\u001b[0m \u001b[1m1s\u001b[0m 2ms/step\n",
            "CNN - MAE: 418.8877001475954, MSE: 1692281.0847100096\n"
          ]
        }
      ]
    },
    {
      "cell_type": "code",
      "source": [
        "import matplotlib.pyplot as plt\n",
        "\n",
        "# Train CNN and store history\n",
        "history = cnn.fit(\n",
        "    X_train_cnn, y_train,\n",
        "    epochs=10,\n",
        "    batch_size=16,\n",
        "    validation_data=(X_test_cnn, y_test),\n",
        "    verbose=1\n",
        ")\n",
        "\n",
        "# Plot training loss and validation loss\n",
        "plt.figure(figsize=(8, 5))\n",
        "plt.plot(history.history[\"loss\"], label=\"Training Loss\")\n",
        "plt.plot(history.history[\"val_loss\"], label=\"Validation Loss\")\n",
        "plt.xlabel(\"Epochs\")\n",
        "plt.ylabel(\"Loss (MSE)\")\n",
        "plt.title(\"Training vs Validation Loss\")\n",
        "plt.legend()\n",
        "plt.show()\n"
      ],
      "metadata": {
        "colab": {
          "base_uri": "https://localhost:8080/",
          "height": 834
        },
        "id": "7XHeADbwYfF4",
        "outputId": "e256f9cd-5fed-4590-a71c-eb07b48f1846"
      },
      "execution_count": 10,
      "outputs": [
        {
          "output_type": "stream",
          "name": "stdout",
          "text": [
            "Epoch 1/10\n",
            "\u001b[1m2608/2608\u001b[0m \u001b[32m━━━━━━━━━━━━━━━━━━━━\u001b[0m\u001b[37m\u001b[0m \u001b[1m7s\u001b[0m 3ms/step - loss: 2831681.5000 - mae: 448.2215 - val_loss: 1691703.7500 - val_mae: 421.5187\n",
            "Epoch 2/10\n",
            "\u001b[1m2608/2608\u001b[0m \u001b[32m━━━━━━━━━━━━━━━━━━━━\u001b[0m\u001b[37m\u001b[0m \u001b[1m8s\u001b[0m 2ms/step - loss: 742184.5625 - mae: 436.2001 - val_loss: 1691497.3750 - val_mae: 437.9768\n",
            "Epoch 3/10\n",
            "\u001b[1m2608/2608\u001b[0m \u001b[32m━━━━━━━━━━━━━━━━━━━━\u001b[0m\u001b[37m\u001b[0m \u001b[1m5s\u001b[0m 2ms/step - loss: 675344.6250 - mae: 426.2437 - val_loss: 1689503.6250 - val_mae: 413.8690\n",
            "Epoch 4/10\n",
            "\u001b[1m2608/2608\u001b[0m \u001b[32m━━━━━━━━━━━━━━━━━━━━\u001b[0m\u001b[37m\u001b[0m \u001b[1m10s\u001b[0m 2ms/step - loss: 1052710.2500 - mae: 433.0553 - val_loss: 1689196.7500 - val_mae: 434.0293\n",
            "Epoch 5/10\n",
            "\u001b[1m2608/2608\u001b[0m \u001b[32m━━━━━━━━━━━━━━━━━━━━\u001b[0m\u001b[37m\u001b[0m \u001b[1m6s\u001b[0m 2ms/step - loss: 1148660.2500 - mae: 427.7600 - val_loss: 1688140.7500 - val_mae: 413.2575\n",
            "Epoch 6/10\n",
            "\u001b[1m2608/2608\u001b[0m \u001b[32m━━━━━━━━━━━━━━━━━━━━\u001b[0m\u001b[37m\u001b[0m \u001b[1m10s\u001b[0m 2ms/step - loss: 607132.8125 - mae: 423.9377 - val_loss: 1686901.6250 - val_mae: 426.5616\n",
            "Epoch 7/10\n",
            "\u001b[1m2608/2608\u001b[0m \u001b[32m━━━━━━━━━━━━━━━━━━━━\u001b[0m\u001b[37m\u001b[0m \u001b[1m6s\u001b[0m 2ms/step - loss: 1398850.0000 - mae: 436.8351 - val_loss: 1687052.0000 - val_mae: 418.1174\n",
            "Epoch 8/10\n",
            "\u001b[1m2608/2608\u001b[0m \u001b[32m━━━━━━━━━━━━━━━━━━━━\u001b[0m\u001b[37m\u001b[0m \u001b[1m10s\u001b[0m 2ms/step - loss: 1356038.3750 - mae: 431.1027 - val_loss: 1686343.2500 - val_mae: 404.5619\n",
            "Epoch 9/10\n",
            "\u001b[1m2608/2608\u001b[0m \u001b[32m━━━━━━━━━━━━━━━━━━━━\u001b[0m\u001b[37m\u001b[0m \u001b[1m4s\u001b[0m 2ms/step - loss: 6419095.5000 - mae: 455.2065 - val_loss: 1684733.6250 - val_mae: 428.7803\n",
            "Epoch 10/10\n",
            "\u001b[1m2608/2608\u001b[0m \u001b[32m━━━━━━━━━━━━━━━━━━━━\u001b[0m\u001b[37m\u001b[0m \u001b[1m6s\u001b[0m 2ms/step - loss: 1571281.1250 - mae: 431.6766 - val_loss: 1684778.2500 - val_mae: 411.1201\n"
          ]
        },
        {
          "output_type": "display_data",
          "data": {
            "text/plain": [
              "<Figure size 800x500 with 1 Axes>"
            ],
            "image/png": "[encoded data removed]"
          },
          "metadata": {}
        }
      ]
    },
    {
      "cell_type": "code",
      "source": [
        "X_train_cnn = X_train.reshape((X_train.shape[0], X_train.shape[1], 1))\n",
        "X_test_cnn = X_test.reshape((X_test.shape[0], X_test.shape[1], 1))\n"
      ],
      "metadata": {
        "id": "Ztg8nUFTrSZZ"
      },
      "execution_count": 25,
      "outputs": []
    },
    {
      "cell_type": "code",
      "source": [
        "from tensorflow.keras.layers import BatchNormalization\n",
        "\n",
        "cnn = Sequential([\n",
        "    Conv1D(filters=128, kernel_size=2, activation=\"relu\", input_shape=(X_train.shape[1], 1)),\n",
        "    BatchNormalization(),\n",
        "    Conv1D(filters=64, kernel_size=2, activation=\"relu\"),\n",
        "    Flatten(),\n",
        "    Dense(128, activation=\"relu\"),\n",
        "    Dropout(0.3),  # Increase dropout to prevent overfitting\n",
        "    Dense(64, activation=\"relu\"),\n",
        "    Dense(1)  # Regression output\n",
        "])\n",
        "\n",
        "cnn.compile(optimizer=\"adam\", loss=\"mse\", metrics=[\"mae\"])\n"
      ],
      "metadata": {
        "colab": {
          "base_uri": "https://localhost:8080/"
        },
        "id": "OzdYz60wrFNb",
        "outputId": "e2a31abf-d88d-4849-e568-4d89c97a0145"
      },
      "execution_count": 37,
      "outputs": [
        {
          "output_type": "stream",
          "name": "stderr",
          "text": [
            "/usr/local/lib/python3.11/dist-packages/keras/src/layers/convolutional/base_conv.py:107: UserWarning: Do not pass an `input_shape`/`input_dim` argument to a layer. When using Sequential models, prefer using an `Input(shape)` object as the first layer in the model instead.\n",
            "  super().__init__(activity_regularizer=activity_regularizer, **kwargs)\n"
          ]
        }
      ]
    },
    {
      "cell_type": "code",
      "source": [
        "from tensorflow.keras.callbacks import EarlyStopping\n",
        "\n",
        "early_stop = EarlyStopping(monitor=\"val_loss\", patience=5, restore_best_weights=True)\n",
        "\n",
        "history = cnn.fit(\n",
        "    X_train_cnn, y_train,\n",
        "    epochs=50,  # More epochs\n",
        "    batch_size=16,\n",
        "    validation_data=(X_test_cnn, y_test),\n",
        "    callbacks=[early_stop],\n",
        "    verbose=1\n",
        ")\n"
      ],
      "metadata": {
        "colab": {
          "base_uri": "https://localhost:8080/"
        },
        "id": "cFjX7zhGruOs",
        "outputId": "68f48560-8f24-4a9b-c7a4-da8fe1c6bc8f"
      },
      "execution_count": 38,
      "outputs": [
        {
          "output_type": "stream",
          "name": "stdout",
          "text": [
            "Epoch 1/50\n",
            "\u001b[1m35/35\u001b[0m \u001b[32m━━━━━━━━━━━━━━━━━━━━\u001b[0m\u001b[37m\u001b[0m \u001b[1m2s\u001b[0m 10ms/step - loss: 516.7494 - mae: 17.7155 - val_loss: 636.9181 - val_mae: 20.7119\n",
            "Epoch 2/50\n",
            "\u001b[1m35/35\u001b[0m \u001b[32m━━━━━━━━━━━━━━━━━━━━\u001b[0m\u001b[37m\u001b[0m \u001b[1m0s\u001b[0m 6ms/step - loss: 532.5494 - mae: 9.5595 - val_loss: 629.0097 - val_mae: 20.6638\n",
            "Epoch 3/50\n",
            "\u001b[1m35/35\u001b[0m \u001b[32m━━━━━━━━━━━━━━━━━━━━\u001b[0m\u001b[37m\u001b[0m \u001b[1m0s\u001b[0m 4ms/step - loss: 229.9004 - mae: 8.4134 - val_loss: 598.2250 - val_mae: 19.9218\n",
            "Epoch 4/50\n",
            "\u001b[1m35/35\u001b[0m \u001b[32m━━━━━━━━━━━━━━━━━━━━\u001b[0m\u001b[37m\u001b[0m \u001b[1m0s\u001b[0m 4ms/step - loss: 192.5600 - mae: 8.0473 - val_loss: 551.8154 - val_mae: 18.8484\n",
            "Epoch 5/50\n",
            "\u001b[1m35/35\u001b[0m \u001b[32m━━━━━━━━━━━━━━━━━━━━\u001b[0m\u001b[37m\u001b[0m \u001b[1m0s\u001b[0m 6ms/step - loss: 394.0564 - mae: 9.4596 - val_loss: 551.3534 - val_mae: 19.0517\n",
            "Epoch 6/50\n",
            "\u001b[1m35/35\u001b[0m \u001b[32m━━━━━━━━━━━━━━━━━━━━\u001b[0m\u001b[37m\u001b[0m \u001b[1m0s\u001b[0m 9ms/step - loss: 285.4788 - mae: 8.2607 - val_loss: 517.7103 - val_mae: 18.1555\n",
            "Epoch 7/50\n",
            "\u001b[1m35/35\u001b[0m \u001b[32m━━━━━━━━━━━━━━━━━━━━\u001b[0m\u001b[37m\u001b[0m \u001b[1m0s\u001b[0m 6ms/step - loss: 232.0392 - mae: 8.5755 - val_loss: 469.7886 - val_mae: 16.9361\n",
            "Epoch 8/50\n",
            "\u001b[1m35/35\u001b[0m \u001b[32m━━━━━━━━━━━━━━━━━━━━\u001b[0m\u001b[37m\u001b[0m \u001b[1m0s\u001b[0m 7ms/step - loss: 233.1476 - mae: 8.3408 - val_loss: 417.8095 - val_mae: 15.7504\n",
            "Epoch 9/50\n",
            "\u001b[1m35/35\u001b[0m \u001b[32m━━━━━━━━━━━━━━━━━━━━\u001b[0m\u001b[37m\u001b[0m \u001b[1m0s\u001b[0m 8ms/step - loss: 839.7301 - mae: 11.1487 - val_loss: 415.1499 - val_mae: 15.3089\n",
            "Epoch 10/50\n",
            "\u001b[1m35/35\u001b[0m \u001b[32m━━━━━━━━━━━━━━━━━━━━\u001b[0m\u001b[37m\u001b[0m \u001b[1m0s\u001b[0m 4ms/step - loss: 211.0021 - mae: 8.3855 - val_loss: 346.2855 - val_mae: 13.5097\n",
            "Epoch 11/50\n",
            "\u001b[1m35/35\u001b[0m \u001b[32m━━━━━━━━━━━━━━━━━━━━\u001b[0m\u001b[37m\u001b[0m \u001b[1m0s\u001b[0m 4ms/step - loss: 202.2588 - mae: 8.3307 - val_loss: 293.4547 - val_mae: 11.7857\n",
            "Epoch 12/50\n",
            "\u001b[1m35/35\u001b[0m \u001b[32m━━━━━━━━━━━━━━━━━━━━\u001b[0m\u001b[37m\u001b[0m \u001b[1m0s\u001b[0m 4ms/step - loss: 635.0445 - mae: 9.9965 - val_loss: 290.7068 - val_mae: 11.7158\n",
            "Epoch 13/50\n",
            "\u001b[1m35/35\u001b[0m \u001b[32m━━━━━━━━━━━━━━━━━━━━\u001b[0m\u001b[37m\u001b[0m \u001b[1m0s\u001b[0m 5ms/step - loss: 461.9232 - mae: 8.5879 - val_loss: 300.6542 - val_mae: 12.2717\n",
            "Epoch 14/50\n",
            "\u001b[1m35/35\u001b[0m \u001b[32m━━━━━━━━━━━━━━━━━━━━\u001b[0m\u001b[37m\u001b[0m \u001b[1m0s\u001b[0m 5ms/step - loss: 293.0339 - mae: 8.0698 - val_loss: 256.1948 - val_mae: 10.7062\n",
            "Epoch 15/50\n",
            "\u001b[1m35/35\u001b[0m \u001b[32m━━━━━━━━━━━━━━━━━━━━\u001b[0m\u001b[37m\u001b[0m \u001b[1m0s\u001b[0m 5ms/step - loss: 201.7152 - mae: 8.7608 - val_loss: 180.0624 - val_mae: 8.9095\n",
            "Epoch 16/50\n",
            "\u001b[1m35/35\u001b[0m \u001b[32m━━━━━━━━━━━━━━━━━━━━\u001b[0m\u001b[37m\u001b[0m \u001b[1m0s\u001b[0m 5ms/step - loss: 212.0636 - mae: 8.5817 - val_loss: 169.5772 - val_mae: 8.8169\n",
            "Epoch 17/50\n",
            "\u001b[1m35/35\u001b[0m \u001b[32m━━━━━━━━━━━━━━━━━━━━\u001b[0m\u001b[37m\u001b[0m \u001b[1m0s\u001b[0m 4ms/step - loss: 288.3609 - mae: 8.8829 - val_loss: 183.3316 - val_mae: 8.9254\n",
            "Epoch 18/50\n",
            "\u001b[1m35/35\u001b[0m \u001b[32m━━━━━━━━━━━━━━━━━━━━\u001b[0m\u001b[37m\u001b[0m \u001b[1m0s\u001b[0m 5ms/step - loss: 1184.3610 - mae: 11.1177 - val_loss: 172.0275 - val_mae: 8.6313\n",
            "Epoch 19/50\n",
            "\u001b[1m35/35\u001b[0m \u001b[32m━━━━━━━━━━━━━━━━━━━━\u001b[0m\u001b[37m\u001b[0m \u001b[1m0s\u001b[0m 4ms/step - loss: 561.5927 - mae: 9.6858 - val_loss: 176.1924 - val_mae: 8.8877\n",
            "Epoch 20/50\n",
            "\u001b[1m35/35\u001b[0m \u001b[32m━━━━━━━━━━━━━━━━━━━━\u001b[0m\u001b[37m\u001b[0m \u001b[1m0s\u001b[0m 4ms/step - loss: 261.6119 - mae: 8.4505 - val_loss: 182.3215 - val_mae: 9.3600\n",
            "Epoch 21/50\n",
            "\u001b[1m35/35\u001b[0m \u001b[32m━━━━━━━━━━━━━━━━━━━━\u001b[0m\u001b[37m\u001b[0m \u001b[1m0s\u001b[0m 4ms/step - loss: 309.3760 - mae: 8.4857 - val_loss: 181.4365 - val_mae: 9.4066\n"
          ]
        }
      ]
    },
    {
      "cell_type": "code",
      "source": [
        "plt.figure(figsize=(8, 5))\n",
        "plt.plot(history.history[\"loss\"], label=\"Training Loss\")\n",
        "plt.plot(history.history[\"val_loss\"], label=\"Validation Loss\")\n",
        "plt.xlabel(\"Epochs\")\n",
        "plt.ylabel(\"Loss (MSE)\")\n",
        "plt.title(\"Improved Training vs Validation Loss\")\n",
        "plt.legend()\n",
        "plt.show()\n"
      ],
      "metadata": {
        "colab": {
          "base_uri": "https://localhost:8080/",
          "height": 487
        },
        "id": "9nGlA1hgrytI",
        "outputId": "eed355e4-7efb-4662-cc58-806c9d00e386"
      },
      "execution_count": 39,
      "outputs": [
        {
          "output_type": "display_data",
          "data": {
            "text/plain": [
              "<Figure size 800x500 with 1 Axes>"
            ],
            "image/png": "[encoded data removed]"
          },
          "metadata": {}
        }
      ]
    },
    {
      "cell_type": "code",
      "source": [
        "import matplotlib.pyplot as plt\n",
        "import numpy as np\n",
        "from sklearn.metrics import mean_absolute_error, mean_squared_error\n",
        "\n",
        "# Linear Regression\n",
        "y_train_pred_lr = lin_reg.predict(X_train)\n",
        "y_test_pred_lr = lin_reg.predict(X_test)\n",
        "\n",
        "mse_train_lr = mean_squared_error(y_train, y_train_pred_lr)\n",
        "mse_test_lr = mean_squared_error(y_test, y_test_pred_lr)\n",
        "\n",
        "# Random Forest\n",
        "y_train_pred_rf = rf_reg.predict(X_train)\n",
        "y_test_pred_rf = rf_reg.predict(X_test)\n",
        "\n",
        "mse_train_rf = mean_squared_error(y_train, y_train_pred_rf)\n",
        "mse_test_rf = mean_squared_error(y_test, y_test_pred_rf)\n",
        "\n",
        "# Plot Training vs Validation Loss\n",
        "plt.figure(figsize=(8, 5))\n",
        "plt.bar([\"Linear Regression (Train)\", \"Linear Regression (Test)\",\n",
        "         \"Random Forest (Train)\", \"Random Forest (Test)\"],\n",
        "        [mse_train_lr, mse_test_lr, mse_train_rf, mse_test_rf],\n",
        "        color=[\"blue\", \"lightblue\", \"green\", \"lightgreen\"])\n",
        "plt.ylabel(\"Mean Squared Error (MSE)\")\n",
        "plt.title(\"Training vs Validation Error\")\n",
        "plt.show()\n",
        "\n",
        "# Scatter Plot: Actual vs. Predicted Values\n",
        "plt.figure(figsize=(8, 5))\n",
        "plt.scatter(y_test, y_test_pred_lr, color=\"blue\", alpha=0.5, label=\"Linear Regression\")\n",
        "plt.scatter(y_test, y_test_pred_rf, color=\"green\", alpha=0.5, label=\"Random Forest\")\n",
        "plt.plot([min(y_test), max(y_test)], [min(y_test), max(y_test)], color=\"red\", linestyle=\"--\")\n",
        "plt.xlabel(\"Actual Delay Time\")\n",
        "plt.ylabel(\"Predicted Delay Time\")\n",
        "plt.title(\"Actual vs Predicted Delay Time\")\n",
        "plt.legend()\n",
        "plt.show()\n"
      ],
      "metadata": {
        "colab": {
          "base_uri": "https://localhost:8080/",
          "height": 938
        },
        "id": "u1Mwi_98YtTs",
        "outputId": "efc8f5b7-1379-495a-f3c2-66f31a8420ea"
      },
      "execution_count": 11,
      "outputs": [
        {
          "output_type": "display_data",
          "data": {
            "text/plain": [
              "<Figure size 800x500 with 1 Axes>"
            ],
            "image/png": "[encoded data removed]"
          },
          "metadata": {}
        },
        {
          "output_type": "display_data",
          "data": {
            "text/plain": [
              "<Figure size 800x500 with 1 Axes>"
            ],
            "image/png": "[encoded data removed]"
          },
          "metadata": {}
        }
      ]
    },
    {
      "cell_type": "code",
      "source": [
        "from sklearn.ensemble import RandomForestRegressor\n",
        "from sklearn.metrics import mean_absolute_error, mean_squared_error\n",
        "from sklearn.model_selection import train_test_split\n",
        "\n",
        "# Split data\n",
        "X_train, X_test, y_train, y_test = train_test_split(X_scaled, y, test_size=0.2, random_state=42)\n",
        "\n",
        "# Train Random Forest Regressor\n",
        "rf_reg = RandomForestRegressor(n_estimators=100, random_state=42)\n",
        "rf_reg.fit(X_train, y_train)\n",
        "\n",
        "# Predictions\n",
        "y_pred_rf = rf_reg.predict(X_test)\n",
        "\n",
        "# Evaluate\n",
        "mae_rf = mean_absolute_error(y_test, y_pred_rf)\n",
        "mse_rf = mean_squared_error(y_test, y_pred_rf)\n",
        "\n",
        "# Print results\n",
        "print(f\"Linear Regression - MAE: {mae_lr}, MSE: {mse_lr}\")\n",
        "print(f\"Random Forest - MAE: {mae_rf}, MSE: {mse_rf}\")\n",
        "print(f\"CNN - MAE: {mae_cnn}, MSE: {mse_cnn}\")\n"
      ],
      "metadata": {
        "colab": {
          "base_uri": "https://localhost:8080/"
        },
        "id": "C_vC3xkPtxZP",
        "outputId": "7bd28d7f-d3b9-44b0-8a00-5888efb5c342"
      },
      "execution_count": 12,
      "outputs": [
        {
          "output_type": "stream",
          "name": "stdout",
          "text": [
            "Linear Regression - MAE: 545.0623078072219, MSE: 1771783.4988337052\n",
            "Random Forest - MAE: 408.74506974609454, MSE: 1879181.1116379104\n",
            "CNN - MAE: 418.8877001475954, MSE: 1692281.0847100096\n"
          ]
        }
      ]
    },
    {
      "cell_type": "code",
      "execution_count": 13,
      "metadata": {
        "id": "6KvcTC9gk1ps"
      },
      "outputs": [],
      "source": [
        "def convert_time_to_minutes(time_str):\n",
        "    if isinstance(time_str, str):\n",
        "        time_str = time_str.lower().replace(\"mns\", \"\").replace(\"min\", \"\").strip()\n",
        "        try:\n",
        "            return float(time_str)\n",
        "        except ValueError:\n",
        "            return np.nan\n",
        "    return time_str\n",
        "\n",
        "df_ny_bus_delay['How_Long_Delayed'] = df_ny_bus_delay['How_Long_Delayed'].apply(convert_time_to_minutes)\n",
        "df_ny_bus_delay.dropna(inplace=True)"
      ]
    },
    {
      "cell_type": "code",
      "source": [
        "def convert_to_numeric(value):\n",
        "    # Handle time ranges like '45-50 MIN' by calculating the average of the range\n",
        "    if isinstance(value, str):\n",
        "        if '-' in value:  # Case for range (e.g., '45-50 MIN')\n",
        "            range_values = value.split('-')\n",
        "            try:\n",
        "                return (float(range_values[0]) + float(range_values[1].split()[0])) / 2\n",
        "            except ValueError:\n",
        "                return np.nan  # Return NaN if the range values can't be converted to float\n",
        "        elif 'HR' in value:  # Case for hours (e.g., '1HR')\n",
        "            try:\n",
        "                return float(value.split('HR')[0]) * 60  # Convert hours to minutes\n",
        "            except ValueError:\n",
        "                return np.nan  # Return NaN if conversion fails\n",
        "        elif 'MIN' in value:  # Case for minutes (e.g., '45 MIN')\n",
        "            try:\n",
        "                return float(value.split('MIN')[0])\n",
        "            except ValueError:\n",
        "                return np.nan  # Return NaN if conversion fails\n",
        "        else:\n",
        "            try:\n",
        "                return float(value)  # Try to directly convert to float if it's a number\n",
        "            except ValueError:\n",
        "                return np.nan  # Return NaN if conversion fails\n",
        "    return np.nan  # In case it's not a string, return NaN\n",
        "\n",
        "# Apply the function to the 'How_Long_Delayed' column\n",
        "df['How_Long_Delayed'] = df['How_Long_Delayed'].apply(convert_to_numeric)\n",
        "\n",
        "# Check the results after cleaning\n",
        "print(df['How_Long_Delayed'].head())\n"
      ],
      "metadata": {
        "colab": {
          "base_uri": "https://localhost:8080/"
        },
        "id": "nm1PVurdZVbD",
        "outputId": "fa480627-d56f-4d9e-f92e-61744f828ece"
      },
      "execution_count": 14,
      "outputs": [
        {
          "output_type": "stream",
          "name": "stdout",
          "text": [
            "1   NaN\n",
            "2   NaN\n",
            "3   NaN\n",
            "5   NaN\n",
            "6   NaN\n",
            "Name: How_Long_Delayed, dtype: float64\n"
          ]
        }
      ]
    },
    {
      "cell_type": "code",
      "execution_count": 15,
      "metadata": {
        "id": "FKdi-7NBk1mO"
      },
      "outputs": [],
      "source": [
        "label_encoders = {}\n",
        "categorical_features = ['Run_Type', 'Reason', 'Boro', 'Breakdown_or_Running_Late', 'School_Age_or_PreK']\n",
        "\n",
        "for col in categorical_features:\n",
        "    le = LabelEncoder()\n",
        "    df_ny_bus_delay[col] = le.fit_transform(df_ny_bus_delay[col])\n",
        "    label_encoders[col] = le"
      ]
    },
    {
      "cell_type": "code",
      "execution_count": 16,
      "metadata": {
        "id": "SjABsZmHk_b0"
      },
      "outputs": [],
      "source": [
        "features = ['Run_Type', 'Reason', 'Boro', 'Breakdown_or_Running_Late', 'School_Age_or_PreK', 'Number_Of_Students_On_The_Bus']\n",
        "target = 'How_Long_Delayed'\n",
        "\n",
        "X = df_ny_bus_delay[features]\n",
        "y = df_ny_bus_delay[target]\n"
      ]
    },
    {
      "cell_type": "code",
      "execution_count": 17,
      "metadata": {
        "id": "RqvAoQ0qlBjw"
      },
      "outputs": [],
      "source": [
        "X_train, X_test, y_train, y_test = train_test_split(X, y, test_size=0.2, random_state=42)\n",
        "\n",
        "# Scaling features\n",
        "scaler = StandardScaler()\n",
        "X_train = scaler.fit_transform(X_train)\n",
        "X_test = scaler.transform(X_test)"
      ]
    },
    {
      "cell_type": "code",
      "source": [
        "import pandas as pd\n",
        "import numpy as np\n",
        "from sklearn.ensemble import RandomForestRegressor\n",
        "from sklearn.preprocessing import LabelEncoder, StandardScaler\n",
        "from datetime import datetime\n",
        "\n",
        "# Load dataset\n",
        "df = pd.read_csv(\"bus-breakdown-and-delays.csv\", low_memory=False)\n",
        "\n",
        "# Convert 'Occurred_On' to datetime and extract features\n",
        "df[\"Occurred_On\"] = pd.to_datetime(df[\"Occurred_On\"], errors='coerce')\n",
        "df[\"Year\"] = df[\"Occurred_On\"].dt.year\n",
        "df[\"Month\"] = df[\"Occurred_On\"].dt.month\n",
        "df[\"Day\"] = df[\"Occurred_On\"].dt.day\n",
        "\n",
        "# Drop rows with missing \"Reason\" or \"Boro\"\n",
        "df.dropna(subset=[\"Reason\", \"Boro\"], inplace=True)\n",
        "\n",
        "# Encode 'Reason'\n",
        "label_enc_reason = LabelEncoder()\n",
        "df[\"Reason\"] = label_enc_reason.fit_transform(df[\"Reason\"])\n",
        "\n",
        "# Encode 'Boro' (Borough)\n",
        "label_enc_boro = LabelEncoder()\n",
        "df[\"Boro\"] = label_enc_boro.fit_transform(df[\"Boro\"])\n",
        "\n",
        "# Convert 'How_Long_Delayed' to numerical values\n",
        "def parse_delay(x):\n",
        "    if pd.isna(x):\n",
        "        return np.nan\n",
        "    x = ''.join(filter(str.isdigit, str(x)))  # Extract numeric part\n",
        "    return int(x) if x.isdigit() else np.nan  # Convert only if valid\n",
        "\n",
        "df[\"How_Long_Delayed\"] = df[\"How_Long_Delayed\"].apply(parse_delay)\n",
        "\n",
        "# Drop rows with missing delay values\n",
        "df = df.dropna(subset=[\"How_Long_Delayed\"])\n",
        "\n",
        "# Select features (Year, Month, Day, Reason, Boro) and target (Delay)\n",
        "X = df[[\"Year\", \"Month\", \"Day\", \"Reason\", \"Boro\"]]\n",
        "y = df[\"How_Long_Delayed\"]\n",
        "\n",
        "# Normalize data\n",
        "scaler = StandardScaler()\n",
        "X_scaled = scaler.fit_transform(X)\n",
        "\n",
        "# Train Random Forest Regressor\n",
        "rf_reg = RandomForestRegressor(n_estimators=100, random_state=42)\n",
        "rf_reg.fit(X_scaled, y)\n",
        "\n",
        "# ---- Function to Predict Delay ---- #\n",
        "def predict_delay():\n",
        "    # Get user input\n",
        "    date_input = input(\"Enter a date (YYYY-MM-DD): \")\n",
        "\n",
        "    try:\n",
        "        input_date = datetime.strptime(date_input, \"%Y-%m-%d\")\n",
        "    except ValueError:\n",
        "        print(\"Invalid date format. Please use YYYY-MM-DD.\")\n",
        "        return\n",
        "\n",
        "    print(\"\\nAvailable reasons:\")\n",
        "    for i, reason in enumerate(label_enc_reason.classes_):\n",
        "        print(f\"{i + 1}. {reason}\")\n",
        "\n",
        "    reason_input = input(\"\\nEnter the reason for the delay (exact match from list above): \")\n",
        "\n",
        "    # Check if the reason exists\n",
        "    if reason_input not in label_enc_reason.classes_:\n",
        "        print(\"Invalid reason. Please enter an exact match from the list above.\")\n",
        "        return\n",
        "\n",
        "    # Encode the reason\n",
        "    reason_encoded = label_enc_reason.transform([reason_input])[0]\n",
        "\n",
        "    print(\"\\nAvailable boroughs:\")\n",
        "    for i, boro in enumerate(label_enc_boro.classes_):\n",
        "        print(f\"{i + 1}. {boro}\")\n",
        "\n",
        "    boro_input = input(\"\\nEnter the borough (exact match from list above): \")\n",
        "\n",
        "    # Check if the borough exists\n",
        "    if boro_input not in label_enc_boro.classes_:\n",
        "        print(\"Invalid borough. Please enter an exact match from the list above.\")\n",
        "        return\n",
        "\n",
        "    # Encode the borough\n",
        "    boro_encoded = label_enc_boro.transform([boro_input])[0]\n",
        "\n",
        "    # Create feature array\n",
        "    input_features = np.array([[input_date.year, input_date.month, input_date.day, reason_encoded, boro_encoded]])\n",
        "\n",
        "    # Scale the features\n",
        "    input_scaled = scaler.transform(input_features)\n",
        "\n",
        "    # Predict delay\n",
        "    predicted_delay = rf_reg.predict(input_scaled)[0]\n",
        "\n",
        "    print(f\"\\n🚍 Predicted delay on {date_input} in {boro_input} due to '{reason_input}': {max(0, round(predicted_delay))} minutes\")\n",
        "\n",
        "# ---- Run Prediction ---- #\n",
        "predict_delay()\n"
      ],
      "metadata": {
        "id": "b3Oc_Jm1nxVQ",
        "colab": {
          "base_uri": "https://localhost:8080/"
        },
        "outputId": "7fbcbcf7-c49b-412f-a658-357cce1c4e68"
      },
      "execution_count": 20,
      "outputs": [
        {
          "output_type": "stream",
          "name": "stdout",
          "text": [
            "Enter a date (YYYY-MM-DD): 2015-11-05\n",
            "\n",
            "Available reasons:\n",
            "1. Accident\n",
            "2. Delayed by School\n",
            "3. Flat Tire\n",
            "4. Heavy Traffic\n",
            "5. Late return from Field Trip\n",
            "6. Mechanical Problem\n",
            "7. Other\n",
            "8. Problem Run\n",
            "9. Weather Conditions\n",
            "10. Won`t Start\n",
            "\n",
            "Enter the reason for the delay (exact match from list above): Heavy Traffic\n",
            "\n",
            "Available boroughs:\n",
            "1. All Boroughs\n",
            "2. Bronx\n",
            "3. Brooklyn\n",
            "4. Connecticut\n",
            "5. Manhattan\n",
            "6. Nassau County\n",
            "7. New Jersey\n",
            "8. Queens\n",
            "9. Rockland County\n",
            "10. Staten Island\n",
            "11. Westchester\n",
            "\n",
            "Enter the borough (exact match from list above): Manhattan\n",
            "\n",
            "🚍 Predicted delay on 2015-11-05 in Manhattan due to 'Heavy Traffic': 155 minutes\n"
          ]
        },
        {
          "output_type": "stream",
          "name": "stderr",
          "text": [
            "/usr/local/lib/python3.11/dist-packages/sklearn/utils/validation.py:2739: UserWarning: X does not have valid feature names, but StandardScaler was fitted with feature names\n",
            "  warnings.warn(\n"
          ]
        }
      ]
    }
  ],
  "metadata": {
    "colab": {
      "provenance": []
    },
    "kernelspec": {
      "display_name": "Python 3",
      "name": "python3"
    },
    "language_info": {
      "codemirror_mode": {
        "name": "ipython",
        "version": 3
      },
      "file_extension": ".py",
      "mimetype": "text/x-python",
      "name": "python",
      "nbconvert_exporter": "python",
      "pygments_lexer": "ipython3",
      "version": "3.12.1"
    }
  },
  "nbformat": 4,
  "nbformat_minor": 0
}